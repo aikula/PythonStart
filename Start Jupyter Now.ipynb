{
 "cells": [
  {
   "cell_type": "markdown",
   "metadata": {},
   "source": [
    "# Мой Python\n",
    "Если Вы зачислены на курсы BotsCorporation.com, все необходимое вы сможете найти по адресу http://jupyter.botscorporation.com/ \n",
    "Также вы можете абсолютно бесплатно тренироваться используя использую только браузер и доброту ряда компаний. Например\n",
    "- от Microsoft https://notebooks.azure.com/\n",
    "- от Google https://colab.research.google.com\n",
    "- от Cocalc https://cocalc.com/doc/jupyter-notebook.html\n",
    "\n",
    "Вам надо только завести свой экаунт на данных ресурсах. Также вы должны понимать, что бесплатные машины достаточно слабые, но более чем справятся с освоением базовой программы по Python.\n",
    "\n",
    "Или установите пакет Anaconda (https://www.anaconda.com/distribution/) на свой компьютер. Установить его ужасно просто и вы сразу получите: Python, блокнот Jupyter и самые популярные библиотеки.\n",
    "\n",
    "**Цель:** познакомится с блокнотом Jupyter"
   ]
  },
  {
   "cell_type": "markdown",
   "metadata": {},
   "source": [
    "# Работа с папками\n",
    "![title](img/folder.png)\n",
    "1. Создание папки\n",
    "2. Переименование папки\n",
    "3. Загрузка файла или данных\n",
    "4. Shutdown блокнота\n",
    "5. Создание блокнота"
   ]
  },
  {
   "cell_type": "markdown",
   "metadata": {},
   "source": [
    "# Блокнот\n",
    "![title](img/notebook.png)\n",
    "\n",
    "Чтобы переименовать, щелкните вправом левом углу на название типа \"Untitled\"\n",
    "Мы будем использовать чаще всгео два типа ячеек: Code (будут сожержать сам програмный код) и Markdown (для пометок и комментариев). Кстати, этот текст оформлен именно как Markdown.\n",
    "Для добавления новой ячейки используйте кнопку \"+\" или пункт меню \"Insert\". Новую ячейку можно вставить в произвольном месте и их можно перетаскивать используя стрелочки в меню. \n",
    "Давайте создадим новые ячейки типа Code"
   ]
  },
  {
   "cell_type": "code",
   "execution_count": null,
   "metadata": {},
   "outputs": [],
   "source": [
    "A=1\n",
    "B=2"
   ]
  },
  {
   "cell_type": "code",
   "execution_count": null,
   "metadata": {},
   "outputs": [],
   "source": [
    "#выполняю суммирование\n",
    "print(A+B)"
   ]
  },
  {
   "cell_type": "code",
   "execution_count": null,
   "metadata": {},
   "outputs": [],
   "source": [
    "#так работают комментарии\n"
   ]
  },
  {
   "cell_type": "markdown",
   "metadata": {},
   "source": [
    "Ненужные ячейки можно удалять.\n",
    "также ячейки можно менять местами и перемещать по блокноту.\n",
    "\n",
    "Для выполнения ячейки нажмите: \n",
    "1. Стрелочку \"Run\" в вехнем меню или\n",
    "2. Shift+Enter, и тогда станет активной следующая ячейка или\n",
    "3. Ctrl+Enter и останется активной текущая ячейка, но код выполнится или\n",
    "4. Alt+Enter, выполниться текущая ячейка и будет вставлена новая после нее.\n",
    "\n",
    "При выполнении меняется номер в квадратных скобках. Последовательность выполнения ячеек может быть произвольной.\n",
    "При выполненнии могут возникать ошибки. Читайте внимательно текст ошибки."
   ]
  },
  {
   "cell_type": "code",
   "execution_count": null,
   "metadata": {},
   "outputs": [],
   "source": [
    "print(A+B)"
   ]
  },
  {
   "cell_type": "code",
   "execution_count": null,
   "metadata": {},
   "outputs": [],
   "source": [
    "#где мы?\n",
    "import os\n",
    "os.getcwd()"
   ]
  },
  {
   "cell_type": "code",
   "execution_count": null,
   "metadata": {},
   "outputs": [],
   "source": [
    "#проверить версию кернела Python\n",
    "import sys\n",
    "print(sys.version)"
   ]
  },
  {
   "cell_type": "code",
   "execution_count": null,
   "metadata": {},
   "outputs": [],
   "source": [
    "#занят ли Python\n",
    "import time\n",
    "time.sleep(3)"
   ]
  },
  {
   "cell_type": "markdown",
   "metadata": {},
   "source": [
    "# Служебное\n",
    "\n",
    "Если вы создали или запустили блокнот не с тем кернелом (ядром), его можно сменить через меню Kernel->Change kernel.\n",
    "Часто бывает желательно перезапустить кернел и очистить вывод. Как и после шатдауна, все значения переменных, импортированные библиотеки сбрасываются и все необходимые ячейки надо выполнить заново.\n",
    "\n",
    "# Help\n",
    "Вы всегда можете воспользоваться помощью и докуентацией!\n",
    "В этом уроке мы познакомились лишь с малой долей возможностей блокнота Jupyter!\n",
    "\n",
    "# Сохранить\n",
    "Вы можете сохранять и передавать файлы. Для этого воспользуйтесь пунктом меню File->Download as\n",
    "\n",
    "# Задание для закрепления\n",
    "1. Создайте файл блокнота Python 3\n",
    "2. Измените тип первой ячейки на markdown и введите текст, чтобы был заголовок, перечисления, выделите жирным текстом. Выполните ячейку\n",
    "3. В следующей ячейке введите код в двух ячейках, пример ниже:"
   ]
  },
  {
   "cell_type": "code",
   "execution_count": null,
   "metadata": {},
   "outputs": [],
   "source": [
    "a=10\n",
    "b=5"
   ]
  },
  {
   "cell_type": "code",
   "execution_count": null,
   "metadata": {},
   "outputs": [],
   "source": [
    "print(a/b) #вывести результат деления a на b"
   ]
  },
  {
   "cell_type": "markdown",
   "metadata": {},
   "source": [
    "4. Выполните \"Restart & Clear Output\"\n",
    "5. Выполните проверку версии кернела (код из блокнота), смените кернел на Python 2, повторно выполните проверку\n",
    "6. Переименуйте блокнот\n",
    "7. Сохраните блокнот на локальный компьютер"
   ]
  },
  {
   "cell_type": "markdown",
   "metadata": {},
   "source": [
    "*(с) BotsCorporation.com, 2019*"
   ]
  }
 ],
 "metadata": {
  "kernelspec": {
   "display_name": "Python 3",
   "language": "python",
   "name": "python3"
  },
  "language_info": {
   "codemirror_mode": {
    "name": "ipython",
    "version": 3
   },
   "file_extension": ".py",
   "mimetype": "text/x-python",
   "name": "python",
   "nbconvert_exporter": "python",
   "pygments_lexer": "ipython3",
   "version": "3.6.7"
  },
  "varInspector": {
   "cols": {
    "lenName": 16,
    "lenType": 16,
    "lenVar": 40
   },
   "kernels_config": {
    "python": {
     "delete_cmd_postfix": "",
     "delete_cmd_prefix": "del ",
     "library": "var_list.py",
     "varRefreshCmd": "print(var_dic_list())"
    },
    "r": {
     "delete_cmd_postfix": ") ",
     "delete_cmd_prefix": "rm(",
     "library": "var_list.r",
     "varRefreshCmd": "cat(var_dic_list()) "
    }
   },
   "types_to_exclude": [
    "module",
    "function",
    "builtin_function_or_method",
    "instance",
    "_Feature"
   ],
   "window_display": false
  }
 },
 "nbformat": 4,
 "nbformat_minor": 2
}
