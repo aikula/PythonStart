{
 "cells": [
  {
   "cell_type": "markdown",
   "metadata": {},
   "source": [
    "# Pandas\n",
    "\n",
    "Pandas это высокоуровневая Python библиотека для анализа данных. Почему высокоуровневая? Подому что онимеет уже много написанных методов для операций с данными и нам не надо переписывать этот код заново. Pandas это надстройка над низкоуровневой библиотекой NumPy. NumPy работает очень быстро и бережно относиться к ресурсам памяти, но работать с ней напрямую занимает много времени и сил.\n",
    "\n",
    "Pandas содержит большое количество полезных функций: функции чтения и записи, например, в Excel, анализа данных, представления результатов и тд. Со структурами данных pandas работает ряд других полезных библиотек.\n",
    "\n",
    "Pandas - самая продвинутая и быстроразвивающаяся библиотека для обработки и анализа данных, которую мы будем использовать практически в каждом примере."
   ]
  },
  {
   "cell_type": "markdown",
   "metadata": {},
   "source": [
    "## Импортируем pandas\n",
    "Для некоторых операций иногда требуется библиотека numpy. Часто можно видеть сразу импорт двух библиотек в коде."
   ]
  },
  {
   "cell_type": "code",
   "execution_count": null,
   "metadata": {},
   "outputs": [],
   "source": [
    "import pandas as pd"
   ]
  },
  {
   "cell_type": "markdown",
   "metadata": {},
   "source": [
    "## Создание структуры данных DataFrame\n",
    "Есть несколько способов создать DataFrame. Что такое DataFrame? Упрощенно - это таблица, со строками и столбцами. Этим типом данных оперируют методы библиотеки pandas.\n",
    "\n",
    "Создадим DataFrame из обычного двухмерно списка. Воспользуемся данными о численности сотурдников и выручке крупнейших компаний."
   ]
  },
  {
   "cell_type": "code",
   "execution_count": null,
   "metadata": {},
   "outputs": [],
   "source": [
    "df=pd.DataFrame([['Магнит', 297460, 1237], \n",
    "                 ['X5', 278399, 1533], \n",
    "                 ['Сургутнефтегаз', 112808, 1867],\n",
    "                 ['Лукойл', 102500, 8036],\n",
    "                 ['УГМК', 80000, 165.9]])\n",
    "df # выведем результаты"
   ]
  },
  {
   "cell_type": "markdown",
   "metadata": {},
   "source": [
    "Обратите внимание на цифры от 0-5 слева. Это индексы, упрощенно - номера строк. 0-2 - это столбцы. Давайте дадим им названия."
   ]
  },
  {
   "cell_type": "code",
   "execution_count": null,
   "metadata": {},
   "outputs": [],
   "source": [
    "df.columns=['Компания', 'Численность', 'Выручка']\n",
    "df"
   ]
  },
  {
   "cell_type": "markdown",
   "metadata": {},
   "source": [
    "Список по числу элементов должен соответствовать числу столбцов. Переименовать можно точно также. \n",
    "\n",
    "Использовать русккие названия можно, но ... не принято. Удобнее использовать названия столбцов латинице. Хотя, еще раз повторю, разрешаются и кирилические названия. Также старайтесь, чтобы названия состояли из одного слова, или используйте подчеркивания, чтобы соединить слова.\n",
    "\n",
    "Переименуем столбцы."
   ]
  },
  {
   "cell_type": "code",
   "execution_count": null,
   "metadata": {},
   "outputs": [],
   "source": [
    "df.columns=['Company', 'Personal', 'Revenue']\n",
    "df"
   ]
  },
  {
   "cell_type": "markdown",
   "metadata": {},
   "source": [
    "Чтобы получить названия столбцов и индексы надо обратиться к переменным саго DataFrame"
   ]
  },
  {
   "cell_type": "code",
   "execution_count": null,
   "metadata": {},
   "outputs": [],
   "source": [
    "df.columns"
   ]
  },
  {
   "cell_type": "code",
   "execution_count": null,
   "metadata": {},
   "outputs": [],
   "source": [
    "df.index"
   ]
  },
  {
   "cell_type": "markdown",
   "metadata": {},
   "source": [
    "Чтобы обратиться к DataFrame, можно использовать срезы. Точно также, как мы обращаемся к спискам."
   ]
  },
  {
   "cell_type": "code",
   "execution_count": null,
   "metadata": {},
   "outputs": [],
   "source": [
    "df[0:3]"
   ]
  },
  {
   "cell_type": "markdown",
   "metadata": {},
   "source": [
    "Но обратиться к одной строке так не получится."
   ]
  },
  {
   "cell_type": "code",
   "execution_count": null,
   "metadata": {},
   "outputs": [],
   "source": [
    "df[1]"
   ]
  },
  {
   "cell_type": "markdown",
   "metadata": {},
   "source": [
    "Для этого мы должны использовать методы .loc[] или .iloc[]"
   ]
  },
  {
   "cell_type": "code",
   "execution_count": null,
   "metadata": {},
   "outputs": [],
   "source": [
    "df.loc[1]"
   ]
  },
  {
   "cell_type": "code",
   "execution_count": null,
   "metadata": {},
   "outputs": [],
   "source": [
    "df.loc[1,'Company']"
   ]
  },
  {
   "cell_type": "markdown",
   "metadata": {},
   "source": [
    "Отличие методы .iloc - мы можем обращаться не по названию, а по номер столбца по порядку"
   ]
  },
  {
   "cell_type": "code",
   "execution_count": null,
   "metadata": {},
   "outputs": [],
   "source": [
    "df.iloc[1,2]"
   ]
  },
  {
   "cell_type": "markdown",
   "metadata": {},
   "source": [
    "Чтобы изменить значение - надо просто обратиться к конретной ячейке и присвоить новое значение"
   ]
  },
  {
   "cell_type": "code",
   "execution_count": null,
   "metadata": {},
   "outputs": [],
   "source": [
    "df.loc[1,'Company']='X5 Retail Group'\n",
    "df"
   ]
  },
  {
   "cell_type": "markdown",
   "metadata": {},
   "source": [
    "Можно обращаться не только к строкам, но и столбцам."
   ]
  },
  {
   "cell_type": "code",
   "execution_count": null,
   "metadata": {},
   "outputs": [],
   "source": [
    "df['Company']"
   ]
  },
  {
   "cell_type": "code",
   "execution_count": null,
   "metadata": {},
   "outputs": [],
   "source": [
    "type(df['Company'])"
   ]
  },
  {
   "cell_type": "markdown",
   "metadata": {},
   "source": [
    "Обратите внимание, что столбец - это объект типа Series. Это аналог списков, которые использует библиотека numpy. Фактически этот тип объектов ближе к словарям, так как все объекты проиндексированы и связаны с индексами.\n",
    "\n",
    "Чтобы преобразовать в тип список, надо вызвать методы array"
   ]
  },
  {
   "cell_type": "code",
   "execution_count": null,
   "metadata": {},
   "outputs": [],
   "source": [
    "df['Company'].array"
   ]
  },
  {
   "cell_type": "markdown",
   "metadata": {},
   "source": [
    "Кстати, обратиться к столбцу можно и проще, не используя квадратных скобок."
   ]
  },
  {
   "cell_type": "code",
   "execution_count": null,
   "metadata": {},
   "outputs": [],
   "source": [
    "df.Company.array"
   ]
  },
  {
   "cell_type": "markdown",
   "metadata": {},
   "source": [
    "Легко выполнять выборки из таблицы по критериям."
   ]
  },
  {
   "cell_type": "code",
   "execution_count": null,
   "metadata": {},
   "outputs": [],
   "source": [
    "df[df['Personal']>100000]"
   ]
  },
  {
   "cell_type": "code",
   "execution_count": null,
   "metadata": {},
   "outputs": [],
   "source": [
    "df[df['Personal']>100000][['Company', 'Revenue']]"
   ]
  },
  {
   "cell_type": "markdown",
   "metadata": {},
   "source": [
    "Добавить столбец очень просто. Надо просто объявить его и присвоить значение. Например, заполнить нулями."
   ]
  },
  {
   "cell_type": "code",
   "execution_count": null,
   "metadata": {},
   "outputs": [],
   "source": [
    "df['Temp']=0\n",
    "df"
   ]
  },
  {
   "cell_type": "markdown",
   "metadata": {},
   "source": [
    "Или вычислить значения нового столбца. Расчитаем производительность. "
   ]
  },
  {
   "cell_type": "code",
   "execution_count": null,
   "metadata": {},
   "outputs": [],
   "source": [
    "df['Labor']=df['Revenue']/df['Personal']\n",
    "df"
   ]
  },
  {
   "cell_type": "markdown",
   "metadata": {},
   "source": [
    "или присвоить значения из списка, длина которого равна длине таблицы DataFrame"
   ]
  },
  {
   "cell_type": "code",
   "execution_count": null,
   "metadata": {},
   "outputs": [],
   "source": [
    "t_arr=[10,20,30,40,50]\n",
    "df['Temp2']=t_arr\n",
    "df"
   ]
  },
  {
   "cell_type": "markdown",
   "metadata": {},
   "source": [
    "Изменить значения столца очень легко (см ниже). Или используя метод .apply(), но о нем в другом уроке."
   ]
  },
  {
   "cell_type": "code",
   "execution_count": null,
   "metadata": {},
   "outputs": [],
   "source": [
    "df['Labor']=df['Labor']*1000000\n",
    "df"
   ]
  },
  {
   "cell_type": "markdown",
   "metadata": {},
   "source": [
    "Также достаточно просто удалить строку или столбец.\n",
    "Удаляем столбец."
   ]
  },
  {
   "cell_type": "code",
   "execution_count": null,
   "metadata": {},
   "outputs": [],
   "source": [
    "df=df.drop(['Temp'], axis=1)\n",
    "df"
   ]
  },
  {
   "cell_type": "code",
   "execution_count": null,
   "metadata": {},
   "outputs": [],
   "source": [
    "df=df.drop([1, 2]) # а вот так можно удалить строчки"
   ]
  },
  {
   "cell_type": "code",
   "execution_count": null,
   "metadata": {},
   "outputs": [],
   "source": [
    "df"
   ]
  },
  {
   "cell_type": "code",
   "execution_count": null,
   "metadata": {},
   "outputs": [],
   "source": [
    "df=df.T #иногда бывает надо транспонировать матрицу"
   ]
  },
  {
   "cell_type": "code",
   "execution_count": null,
   "metadata": {},
   "outputs": [],
   "source": [
    "df.shape #этот метод сообщит вам о количестве столбоц или строк"
   ]
  },
  {
   "cell_type": "code",
   "execution_count": null,
   "metadata": {},
   "outputs": [],
   "source": [
    "df"
   ]
  },
  {
   "cell_type": "markdown",
   "metadata": {},
   "source": [
    "## Чтение запись файлов Excel\n",
    "\n",
    "Можно прочитать и записать практически в любой формат, в том числе SQL.\n",
    "\n",
    "Для чтения достаточно указать название файла и лист, с которого мы читаем данные. Стоит учитывать, что в данном примере файлы для чтения и записи расположены в том же каталоге, что и блокнот. В противном случае надо указать путь к файлу.\n",
    "\n",
    "Файл с примером можно скачать по ссылке https://www.dropbox.com/s/521pocpxhni3py1/topcompany.xlsx?dl=0"
   ]
  },
  {
   "cell_type": "code",
   "execution_count": null,
   "metadata": {},
   "outputs": [],
   "source": [
    "df_e=pd.read_excel('topcompany.xlsx', sheet_name='Лист1')\n",
    "df_e.head()"
   ]
  },
  {
   "cell_type": "markdown",
   "metadata": {},
   "source": [
    "Если ваши данные не содержат заголовка, укажите параметр header=None"
   ]
  },
  {
   "cell_type": "code",
   "execution_count": null,
   "metadata": {},
   "outputs": [],
   "source": [
    "df_e2=pd.read_excel('topcompany.xlsx', sheet_name='Лист1', header=None)\n",
    "df_e2.head()"
   ]
  },
  {
   "cell_type": "code",
   "execution_count": null,
   "metadata": {},
   "outputs": [],
   "source": [
    "df_e['Labor']=df_e.Revenue/df_e.Personal\n",
    "df_e"
   ]
  },
  {
   "cell_type": "markdown",
   "metadata": {},
   "source": [
    "Записать файл достаточно просто. В данном случае, мы пишем только один лист."
   ]
  },
  {
   "cell_type": "code",
   "execution_count": null,
   "metadata": {},
   "outputs": [],
   "source": [
    "df_e.to_excel('result.xlsx', sheet_name='Data')"
   ]
  },
  {
   "cell_type": "markdown",
   "metadata": {},
   "source": [
    "Чтобы не записывать индексы надо указать параметр index=False"
   ]
  },
  {
   "cell_type": "code",
   "execution_count": null,
   "metadata": {},
   "outputs": [],
   "source": [
    "df_e.to_excel('result.xlsx', sheet_name='Data', index=False)"
   ]
  },
  {
   "cell_type": "markdown",
   "metadata": {},
   "source": [
    "Но если потребуется, в один файл можно записать несктолько листов с данными."
   ]
  },
  {
   "cell_type": "code",
   "execution_count": null,
   "metadata": {},
   "outputs": [],
   "source": [
    "df_e2 = df_e.copy() #создадим копию\n",
    "with pd.ExcelWriter('result2.xlsx') as writer:  # конструкция with ... as - менеджмер контекста\n",
    "    df_e.to_excel(writer, sheet_name='Sheet1') #указываем какие данные на какой лист записать\n",
    "    df_e2.to_excel(writer, sheet_name='Sheet2')"
   ]
  },
  {
   "cell_type": "markdown",
   "metadata": {},
   "source": [
    "## Анализ данных\n",
    "Pandas имеет большое количество методов для анализа данных. Например, список можно увидеть в официальной документации https://pandas.pydata.org/pandas-docs/stable/reference/frame.html Более подробно будем разбирать их в других курсах. А пока некоторые из них.\n",
    "\n",
    "Следующий метод возвращает список уникальных значений столбца."
   ]
  },
  {
   "cell_type": "code",
   "execution_count": null,
   "metadata": {},
   "outputs": [],
   "source": [
    "df_e['Industry'].unique()"
   ]
  },
  {
   "cell_type": "markdown",
   "metadata": {},
   "source": [
    "Можно подсчитать количество вхождений каждого уникального значения."
   ]
  },
  {
   "cell_type": "code",
   "execution_count": null,
   "metadata": {},
   "outputs": [],
   "source": [
    "df_e['Industry'].value_counts()"
   ]
  },
  {
   "cell_type": "markdown",
   "metadata": {},
   "source": [
    "Или найти среднее значение по столбцу."
   ]
  },
  {
   "cell_type": "code",
   "execution_count": null,
   "metadata": {},
   "outputs": [],
   "source": [
    "df_e['Personal'].mean()"
   ]
  },
  {
   "cell_type": "code",
   "execution_count": null,
   "metadata": {},
   "outputs": [],
   "source": [
    "df_e['Personal'].sum()"
   ]
  },
  {
   "cell_type": "markdown",
   "metadata": {},
   "source": [
    "Чтобы быстро понять характеристики данных, можно вывести общую информацию о них."
   ]
  },
  {
   "cell_type": "code",
   "execution_count": null,
   "metadata": {},
   "outputs": [],
   "source": [
    "df_e.describe()"
   ]
  },
  {
   "cell_type": "markdown",
   "metadata": {},
   "source": [
    "Так же есть модщные функции сортировки. В примере, отсортируем по одному полю по возрастанию."
   ]
  },
  {
   "cell_type": "code",
   "execution_count": null,
   "metadata": {},
   "outputs": [],
   "source": [
    "df_e['Labor']=df_e.Revenue/df_e.Personal\n",
    "df_e.sort_values(by='Labor')"
   ]
  },
  {
   "cell_type": "markdown",
   "metadata": {},
   "source": [
    "Более подробно мы разберем функции анализа в специализированных курсах."
   ]
  },
  {
   "cell_type": "markdown",
   "metadata": {},
   "source": [
    "## Группировка\n",
    "Полезная функция при анализе данных. Причем, мы можем задавать результаты этой группировки."
   ]
  },
  {
   "cell_type": "code",
   "execution_count": null,
   "metadata": {},
   "outputs": [],
   "source": [
    "df_e.groupby(['Industry']).sum()"
   ]
  },
  {
   "cell_type": "markdown",
   "metadata": {},
   "source": [
    "Выводим результаты группировки только для одного столбца."
   ]
  },
  {
   "cell_type": "code",
   "execution_count": null,
   "metadata": {},
   "outputs": [],
   "source": [
    "df_e.groupby(['Industry'])['Personal'].mean()"
   ]
  },
  {
   "cell_type": "markdown",
   "metadata": {},
   "source": [
    "## Сводные таблицы\n",
    "Аналог сводных таблиц в Excel. Более подробно мы с ними познакомимся, например, когда будем изучать кластеризацию. Данный пример носит иллюстративный характер."
   ]
  },
  {
   "cell_type": "code",
   "execution_count": null,
   "metadata": {},
   "outputs": [],
   "source": [
    "df_e.pivot_table(index=['Industry'], columns=['Personal'], values='Revenue', aggfunc='sum')"
   ]
  },
  {
   "cell_type": "markdown",
   "metadata": {},
   "source": [
    "## Задание"
   ]
  },
  {
   "cell_type": "markdown",
   "metadata": {},
   "source": [
    "Создайте DataFrame следующего содержания:\n",
    "\n",
    "| Вид   | Название          | Кал   | Белки  | Жиры | Угл  |\n",
    "|-------|-------------------|-------|--------|------|------|\n",
    "| Овощи | Баклажаны\t        | 24\t| 0,6\t | 0,1\t| 5,5  |\n",
    "| Овощи | Горошек зеленый\t| 72\t| 5,0\t | 0,2\t| 13,3 |\n",
    "| Овощи | Кабачки\t        | 27    | 0,6\t | 0,3\t| 5,7  |\n",
    "| Овощи | Капуста           |\t28\t| 1,8\t | 0    | 5,4  |\n",
    "|Фрукты | Ананас |\t48 |\t0,4 |\t0 |\t11,8 |\n",
    "|Фрукты |Апельсин\t|38\t|0,9\t|0\t|8,4|\n",
    "|Бобы |Фасоль\t|309\t|22,3\t|1,7\t|54,5|\n",
    "|Бобы |Горох лущеный\t|323\t|23\t|1,6\t|57,7|\n",
    "\n",
    "*Обращаю внимание, что Python в кажесчтве разделителя целой и дробной части использует точку, а не запятую. Заменити запятую при создании на точку.*\n",
    "\n",
    "Совершите следующие манипуляции:\n",
    "1. выведите только заголовок\n",
    "2. добавьте столбец в котором будет содержаться сумма значений белков, жиров и углеводов.\n",
    "3. удалите новый столбец\n",
    "4. переименуйте столбцы\n",
    "5. измените название \"капуста\" на \"капуста белокачанная\"\n",
    "6. выведите только те позиции, которые не содержат жиров\n",
    "7. подсчитайте уникальное количество по видам\n",
    "8. сгруппируйте по видам и найдите среднюю калорийность\n",
    "9. запишите dataframe в файл сначала на один лист, затем на два листа\n",
    "10. прочитайте записанный в файл в новый dataframe"
   ]
  },
  {
   "cell_type": "code",
   "execution_count": null,
   "metadata": {},
   "outputs": [],
   "source": []
  }
 ],
 "metadata": {
  "kernelspec": {
   "display_name": "py3.7",
   "language": "python",
   "name": "py3.7"
  },
  "language_info": {
   "codemirror_mode": {
    "name": "ipython",
    "version": 3
   },
   "file_extension": ".py",
   "mimetype": "text/x-python",
   "name": "python",
   "nbconvert_exporter": "python",
   "pygments_lexer": "ipython3",
   "version": "3.7.5"
  }
 },
 "nbformat": 4,
 "nbformat_minor": 2
}
