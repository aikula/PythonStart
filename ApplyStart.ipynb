{
 "cells": [
  {
   "cell_type": "markdown",
   "metadata": {},
   "source": [
    "# Lambda функции\n",
    "\n",
    "Лябмда-выражения — это особый синтаксис в Python, необходимый для создания анонимных функций. Давайте назовем синтаксис лямбда как лямбда-выражение, а получаемую функцию — лямбда-функцию.\n",
    "\n",
    "Лямбда-выражения в Python позволяют функции быть созданной и переданной (зачастую другой функции) в одной строчке кода.\n",
    "\n",
    "Например, простая функция так:"
   ]
  },
  {
   "cell_type": "code",
   "execution_count": null,
   "metadata": {},
   "outputs": [],
   "source": [
    "#объявим функцию\n",
    "def d100(x,y):\n",
    "    return x/y\n",
    "\n",
    "#вызовем функцию\n",
    "d100(1000,10)"
   ]
  },
  {
   "cell_type": "markdown",
   "metadata": {},
   "source": [
    "А можно объявить ее и в одну строчку, причем, часто нет необходимости присваивать ее переменной."
   ]
  },
  {
   "cell_type": "code",
   "execution_count": null,
   "metadata": {},
   "outputs": [],
   "source": [
    "f= lambda x,y: x/y\n",
    "f(1000,100)"
   ]
  },
  {
   "cell_type": "markdown",
   "metadata": {},
   "source": [
    "Анонимные функции (labmbda) используют как аргумент нескольких функций - map(), filter(), reduce(), apply()."
   ]
  },
  {
   "cell_type": "markdown",
   "metadata": {},
   "source": [
    "# Map, filter, reduce\n",
    "\n",
    "Разберемся с функцией map(). Она применяется к спискам и может принимать в качестве аргумента другие функции. В частности, она применяет функцию, переданную в качестве аргумента ко всем последовательно элементам списка.\n",
    "\n",
    "Сгенерируем список my_arr."
   ]
  },
  {
   "cell_type": "code",
   "execution_count": null,
   "metadata": {},
   "outputs": [],
   "source": [
    "my_arr=[x for x in range(0,100,10)]\n",
    "my_arr"
   ]
  },
  {
   "cell_type": "markdown",
   "metadata": {},
   "source": [
    "Разделим каждый элемент списка на 100. Для этого можно было \"пройтись\" циклом и перебрать все элементы. А можно использовать функции map() и анонимную функцию lambda."
   ]
  },
  {
   "cell_type": "code",
   "execution_count": null,
   "metadata": {},
   "outputs": [],
   "source": [
    "list(map(lambda x: x/100, my_arr))"
   ]
  },
  {
   "cell_type": "markdown",
   "metadata": {},
   "source": [
    "Есть еще пара функций, которые в качестве аргументов могут принимать другую функцию. Аналогичным образом можно отсортировать элементы в списке, где условием может быть некторая функция."
   ]
  },
  {
   "cell_type": "code",
   "execution_count": null,
   "metadata": {},
   "outputs": [],
   "source": [
    "list(filter(lambda x: x > 50 and x!=70, my_arr))  "
   ]
  },
  {
   "cell_type": "markdown",
   "metadata": {},
   "source": [
    "Иногда полезной может быть функция, которая использует результаты предыдущих вычислений. Она входит в библиотеку functools. Где res - это результат предыдущих вычислений.\n",
    "\n",
    "Ниже мы найдем сумму всех элементов списка."
   ]
  },
  {
   "cell_type": "code",
   "execution_count": null,
   "metadata": {},
   "outputs": [],
   "source": [
    "from functools import reduce\n",
    "reduce(lambda res, x: res+x, my_arr, 0)"
   ]
  },
  {
   "cell_type": "markdown",
   "metadata": {},
   "source": [
    "## Задание\n",
    "Ниже сгенерирован список из случайных целых числе. Прибавте к каждому элементу 1 с использованием map().\n",
    "Затем выведите только элементы, которые меньше или равны 30."
   ]
  },
  {
   "cell_type": "code",
   "execution_count": null,
   "metadata": {},
   "outputs": [],
   "source": [
    "from random import randint\n",
    "t_arr=[randint(0,100) for x in range(0,20)]\n",
    "t_arr"
   ]
  },
  {
   "cell_type": "markdown",
   "metadata": {},
   "source": [
    "# Apply()\n",
    "Чуть раньше мы проходили с вами библиотеку pandas и таблицы DataFrame. Для работы с этим типом данных вместо map() используется функция apply(). Функции и принципи работы тот же самый, но есть небольшие дополнения.\n",
    "\n",
    "\n",
    "Файл с примером можно скачать по ссылке https://www.dropbox.com/s/521pocpxhni3py1/topcompany.xlsx?dl=0\n",
    "\n",
    "Загрузим библиотеку и файл с данными."
   ]
  },
  {
   "cell_type": "code",
   "execution_count": null,
   "metadata": {},
   "outputs": [],
   "source": [
    "import pandas as pd"
   ]
  },
  {
   "cell_type": "code",
   "execution_count": null,
   "metadata": {},
   "outputs": [],
   "source": [
    "df=pd.read_excel('topcompany.xlsx', sheet_name='Лист1')\n",
    "df.head()"
   ]
  },
  {
   "cell_type": "markdown",
   "metadata": {},
   "source": [
    "Функцию apply() можно применять как к стоблцу, так и по строкам. Примени ее к столбцу, умножим все значения на 1000."
   ]
  },
  {
   "cell_type": "code",
   "execution_count": null,
   "metadata": {},
   "outputs": [],
   "source": [
    "df['Revenue']=df['Revenue'].apply(lambda x: x*1000)\n",
    "df.head()"
   ]
  },
  {
   "cell_type": "markdown",
   "metadata": {},
   "source": [
    "Apply() можно вызывать и к строке, обращаясь затем к элементам строки по номеру или названии. Для этого надо указать параметр axis=1.\n",
    "\n",
    "Ниже мы перемножаем два столбца между собой. "
   ]
  },
  {
   "cell_type": "code",
   "execution_count": null,
   "metadata": {},
   "outputs": [],
   "source": [
    "df['Labor']=df.apply(lambda x:x['Revenue']/x['Personal'], axis=1)\n",
    "df.head()"
   ]
  },
  {
   "cell_type": "markdown",
   "metadata": {},
   "source": [
    "## Задание\n",
    "Ниже есть DataFrame.\n",
    "Вычтите из всех элементов значений столбца A 10.\n",
    "Разделите столбец B на столбец C.\n",
    "Для операций используйте apple()"
   ]
  },
  {
   "cell_type": "code",
   "execution_count": null,
   "metadata": {},
   "outputs": [],
   "source": [
    "df_t=pd.DataFrame({\n",
    "    'A':[96, 66, 98, 60, 13, 55, 2, 40, 18, 93],\n",
    "    'B':[541, 80, 654, 365, 190, 448, 187, 731, 883, 411],\n",
    "    'C':[9, 6, 0, 9, 8, 7, 6, 1, 10, 1]\n",
    "})\n",
    "df_t"
   ]
  },
  {
   "cell_type": "code",
   "execution_count": null,
   "metadata": {},
   "outputs": [],
   "source": []
  }
 ],
 "metadata": {
  "kernelspec": {
   "display_name": "py3.7",
   "language": "python",
   "name": "py3.7"
  },
  "language_info": {
   "codemirror_mode": {
    "name": "ipython",
    "version": 3
   },
   "file_extension": ".py",
   "mimetype": "text/x-python",
   "name": "python",
   "nbconvert_exporter": "python",
   "pygments_lexer": "ipython3",
   "version": "3.7.3"
  }
 },
 "nbformat": 4,
 "nbformat_minor": 2
}
